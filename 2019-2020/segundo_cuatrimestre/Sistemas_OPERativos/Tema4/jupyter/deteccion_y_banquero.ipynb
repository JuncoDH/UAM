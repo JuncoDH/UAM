{
 "cells": [
  {
   "cell_type": "markdown",
   "metadata": {},
   "source": [
    "# <span style=\"color:red;\"> Detección de estado </span>\n",
    "\n",
    "## <span style=\"color:orange;\"> Comprobación de uno de los procesos </span>\n",
    "\n",
    "Esta función comprueba si el proceso tiene suficientes recursos para acabar, si los tiene supone que en algún momento podrá acabar y devolver todos sus recursos.\n",
    "\n",
    "En el retorno se devuelve el nuevo vector de disponibles y el nuevo vector de peticiones pendientes con \"guiones\" para marcar que ya ha sido procesado."
   ]
  },
  {
   "cell_type": "code",
   "execution_count": 73,
   "metadata": {},
   "outputs": [],
   "source": [
    "def mark_line(availables,proc_current,proc_requested):\n",
    "    avail_new = []\n",
    "    requested_new = []\n",
    "    # La siguiente condición es para prevenir el que\n",
    "    # se intente marcar uno ya marcado\n",
    "    # Sólo es para facilitar la programación\n",
    "    if proc_requested[0] is \"-\":\n",
    "        return False, availables, proc_requested, proc_current\n",
    "    \n",
    "    for avail, pend in zip(availables, proc_requested):\n",
    "        avail_new.append(avail+pend)\n",
    "        if avail < pend:\n",
    "            return False, availables, proc_requested, proc_current\n",
    "    current_new = [\"-\"]*len(proc_current)\n",
    "    requested_new = [\"-\"]*len(proc_requested)\n",
    "    return True, avail_new, current_new, requested_new"
   ]
  },
  {
   "cell_type": "markdown",
   "metadata": {},
   "source": [
    "## <span style=\"color:orange;\"> Cálculo del vector de recursos disponibles </span>\n",
    "\n",
    "Por coherencia entre las matrices definidas, la suma de las veces que se ha asignado un recurso a cada uno de los procesos con los procesos disponibles tiene que dar como resultado el número de recursos totales, es decir: $$\\sum C_{ij} + A_j = E_j$$ o lo que es lo mismo para esta función que vamos a crear: $$A_j = E_j - \\sum C_{ij}$$"
   ]
  },
  {
   "cell_type": "code",
   "execution_count": 74,
   "metadata": {},
   "outputs": [],
   "source": [
    "def availables_calc(existent, current):\n",
    "    avail = existent[:]\n",
    "\n",
    "    for proc in current:\n",
    "        for i in range(len(existent)):\n",
    "            avail[i] -= proc[i]\n",
    "            if avail[i] < 0:\n",
    "                return False, avail\n",
    "    return True, avail"
   ]
  },
  {
   "cell_type": "markdown",
   "metadata": {},
   "source": [
    "## <span style=\"color:orange;\"> Busca de un proceso para marcar </span>\n",
    "\n",
    "Esta función busca un proceso para marcar. Puede ser cualquiera de los procesos pero lo importante es que se cumpla que haya suficientes recursos disponibles ($A$) de cada tipo para asignarle todos los que aún le faltan a ese proceso y que están en la correspondiente fila de la matriz de solicitudes ($R_i$)"
   ]
  },
  {
   "cell_type": "code",
   "execution_count": 80,
   "metadata": {},
   "outputs": [],
   "source": [
    "def search_mark(available,current,requested):\n",
    "    for i in range(len(current)-1,-1,-1):\n",
    "        found, available, current[i], requested[i] = mark_line(available, current[i], requested[i])\n",
    "        if found is True:\n",
    "            return found , available, current, requested\n",
    "    return found, available, current, requested"
   ]
  },
  {
   "cell_type": "markdown",
   "metadata": {},
   "source": [
    "## <span style=\"color:orange;\"> Analiza el estado </span>\n",
    "\n",
    "Esta función busca busca de forma reiterada procesos para marcar. Si la función de marcado no puede marcar ninguno se comprueba que el número de procesos marcados sea igual al número de procesos totales. Si no se han conseguido marcar todos entonces el estado es inseguro porque no hay ninguna forma de asignar los recursos para que todos los procesos puedan terminar. Si no hay ninguna liberación de recursos por parte de algún proceso el estado inseguro llevará inexoráblemente a un interbloqueo. Si se han marcado todos los procesos entonces el estado es seguro porque existe alguna forma de asignar los recursos de tal forma que todos los procesos puedan acabar."
   ]
  },
  {
   "cell_type": "code",
   "execution_count": 81,
   "metadata": {},
   "outputs": [],
   "source": [
    "SECURE_STATE = \"Secure\"\n",
    "INSECURE_STATE = \"Insecure\"\n",
    "IMPOSSIBLE_PROBLEM = \"Imposible\"\n",
    "\n",
    "def state(existent,current, requested):\n",
    "    pos, available = availables_calc(existent, current)\n",
    "    if pos is False:\n",
    "        return IMPOSSIBLE_PROBLEM\n",
    "\n",
    "    count = 0\n",
    "    n_proc = len(current)\n",
    "    found = True\n",
    "    while found:\n",
    "        found , available, current, requested = search_mark(available, current, requested)\n",
    "        if found: \n",
    "            count += 1\n",
    "            print(\"\\nTry: \" + str(count))\n",
    "            print(\"A = \", available)\n",
    "            print(\"C = \", current)\n",
    "            print(\"R = \", requested) \n",
    "            \n",
    "    if count == n_proc:\n",
    "        return SECURE_STATE\n",
    "    return INSECURE_STATE"
   ]
  },
  {
   "cell_type": "markdown",
   "metadata": {},
   "source": [
    "## <span style=\"color:orange;\"> Probando </span>"
   ]
  },
  {
   "cell_type": "code",
   "execution_count": 82,
   "metadata": {},
   "outputs": [
    {
     "name": "stdout",
     "output_type": "stream",
     "text": [
      "\n",
      "Try: 1\n",
      "A =  [2, 3, 2]\n",
      "C =  [[1, 1, 0], [2, 0, 0], ['-', '-', '-']]\n",
      "R =  [[0, 0, 1], [0, 1, 1], ['-', '-', '-']]\n",
      "\n",
      "Try: 2\n",
      "A =  [2, 4, 3]\n",
      "C =  [[1, 1, 0], ['-', '-', '-'], ['-', '-', '-']]\n",
      "R =  [[0, 0, 1], ['-', '-', '-'], ['-', '-', '-']]\n",
      "\n",
      "Try: 3\n",
      "A =  [2, 4, 4]\n",
      "C =  [['-', '-', '-'], ['-', '-', '-'], ['-', '-', '-']]\n",
      "R =  [['-', '-', '-'], ['-', '-', '-'], ['-', '-', '-']]\n",
      "\n",
      "\n",
      "Secure\n",
      "\n",
      "\n"
     ]
    }
   ],
   "source": [
    "existent = [5,3,2]\n",
    "\n",
    "current =[\n",
    "    [1,1,0],\n",
    "    [2,0,0],\n",
    "    [1,0,0]\n",
    "]\n",
    "\n",
    "requested = [\n",
    "    [0,0,1],\n",
    "    [0,1,1],\n",
    "    [1,1,0],\n",
    "]\n",
    "\n",
    "print(\"\\n\\n\" +state(existent, current, requested)+\"\\n\\n\")"
   ]
  },
  {
   "cell_type": "markdown",
   "metadata": {},
   "source": [
    "## <span style=\"color:red;\"> Algoritmo del banquero </span>\n",
    "\n",
    "Todo lo anterior es simplemente un algoritmo para detectar el estado del sistema en un determinado instante.\n",
    "\n",
    "El algoritmo del banquero es un concepto dinámico. Este algoritmo consiste en que, ante una petición de un recurso de un proceso se realiza el siguiente proceso:\n",
    "1. Ante una petición de asignación:\n",
    "    1. Se hace como si se asignase el recurso, disminuyendo el correspondiente elemento en la matriz de peticiones\n",
    "    2. Se analiza el estado con el recurtso asignado.\n",
    "        1. Si es seguro se asigna realmente y se cambian todas las matrices de verdad\n",
    "        2. Si es inseguro no se asigna, se deja las matrices como estaban iniciales y se mete al proceso con su solicitud en una lista de bloqueados\n",
    "2. Ante una solicitud de liberación\n",
    "    1. Se libera el correspondiente recurso de la matriz de recursos asignados que pasará a estar disponible\n",
    "    2. Se comprueba (por orden de bloqueo) si la solicitud que bloqueó a los procesos ahora es segura o no. Si es segura se realiza y se sigue desbloqueando a todos los procesos de la cola que no introduzcan al sistema en un estado inseguro al ser desbloqueados. Para ello se realiza el mismo proceso que ante cualquier petición de asignación (ver punto 1).\n",
    "    \n",
    "Es muy importante no confundir el algoritmo del banquero con el algoritmo de detección explicado anteriormente. El algoritmo del banquero utiliza el algoritmo de detección pero para cada solicitud de recurso."
   ]
  },
  {
   "cell_type": "code",
   "execution_count": null,
   "metadata": {},
   "outputs": [],
   "source": []
  }
 ],
 "metadata": {
  "kernelspec": {
   "display_name": "Python 3",
   "language": "python",
   "name": "python3"
  },
  "language_info": {
   "codemirror_mode": {
    "name": "ipython",
    "version": 3
   },
   "file_extension": ".py",
   "mimetype": "text/x-python",
   "name": "python",
   "nbconvert_exporter": "python",
   "pygments_lexer": "ipython3",
   "version": "3.7.5"
  }
 },
 "nbformat": 4,
 "nbformat_minor": 4
}
