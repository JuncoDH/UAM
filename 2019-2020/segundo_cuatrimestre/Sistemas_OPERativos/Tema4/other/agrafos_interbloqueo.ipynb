{
 "cells": [
  {
   "cell_type": "markdown",
   "metadata": {},
   "source": [
    "## <span style=\"color:red;\"> Detección de interbloqueos usando grafos </span>\n",
    "\n",
    "A continuación se presenta una clase que permite crear grafos de recursos y procesos y analizar si existe un círculo vicioso que indicaría que existe un interbloqueo.\n",
    "\n",
    "La única propiedad de esta clase es el grafo y se dispone de tres métodos para operar con este problema, los dos primeros carecen de importancia para el aprendizaje pero son necesarios para crear los grafos y representarlos. El primero es el método *requests* que recibe como parámetros un número indeterminado de duplas que tienen dos valores, el primero indica número del proceso que solicita el recurso y el segundo el número del recurso solicitado. El método *draw* permite dibujar el grafo.\n",
    "\n",
    "El tercer método y que sí es importante para el aprendizaje es el que sigue el procedimiento descrito en la teoría para determinar si existe algún círculo vicioso. Este consiste en recorrer el grafo partiendo cada vez de un nodo (recurso o proceso) hasta haber elegido todos los nodos iniciales posibles. Si en el algún recorrido del grafo volvemos a encontrarnos con algún nodo que ya estuviese en el recorrido quiere decir que hay un círculo vicioso y por tanto un interbloqueo.\n",
    "\n",
    "Como siempre el código no está comentado con el fin de que hagáis el esfuerzo de entenderlo que es lo que realmente os proporcionará conocimiento. Para ello basta con que os centréis en entender cómo funciona el método *interlock* y el método interno *_next_node*."
   ]
  },
  {
   "cell_type": "code",
   "execution_count": 230,
   "metadata": {},
   "outputs": [
    {
     "data": {
      "image/png": "[encoded data removed]",
      "text/plain": [
       "<Figure size 432x288 with 1 Axes>"
      ]
     },
     "metadata": {
      "needs_background": "light"
     },
     "output_type": "display_data"
    },
    {
     "name": "stdout",
     "output_type": "stream",
     "text": [
      "____________________________\n",
      "['P2']\n",
      "____________________________\n",
      "['R2']\n",
      "['R2', 'P2']\n",
      "____________________________\n",
      "['P3']\n",
      "['P3', 'R1']\n",
      "['P3', 'R1', 'P2']\n",
      "____________________________\n",
      "['R3']\n",
      "['R3', 'P3']\n",
      "['R3', 'P3', 'R1']\n",
      "['R3', 'P3', 'R1', 'P2']\n",
      "____________________________\n",
      "['P1']\n",
      "['P1', 'R3']\n",
      "['P1', 'R3', 'P3']\n",
      "['P1', 'R3', 'P3', 'R1']\n",
      "['P1', 'R3', 'P3', 'R1', 'P2']\n",
      "['P1', 'R2']\n",
      "['P1', 'R2', 'P2']\n",
      "____________________________\n",
      "['R1']\n",
      "['R1', 'P2']\n",
      "____________________________\n",
      "\n",
      "Sin interbloqueo\n",
      "\n",
      "\n"
     ]
    }
   ],
   "source": [
    "import networkx as nx\n",
    "import matplotlib.pyplot as plt\n",
    "\n",
    "class interlock:\n",
    "    def __init__(self):\n",
    "        self.gr = nx.DiGraph()\n",
    "        \n",
    "    def requests(self, *requests):\n",
    "        for req in requests:\n",
    "            proc_name = \"P\"+str(req[0])\n",
    "            resource_name = \"R\"+str(req[1])\n",
    "            \n",
    "            if proc_name not in self.gr and resource_name not in self.gr:\n",
    "                self.gr.add_node(proc_name,nodetype = \"P\")\n",
    "                self.gr.add_node(resource_name, nodetype = \"R\")\n",
    "                self.gr.add_edge(resource_name,proc_name)  \n",
    "            elif proc_name not in self.gr and resource_name in self.gr:\n",
    "                self.gr.add_node(proc_name,nodetype = \"P\")\n",
    "                self.gr.add_edge(proc_name, resource_name)\n",
    "            elif proc_name in self.gr and resource_name not in self.gr:\n",
    "                self.gr.add_node(resource_name, nodetype = \"R\")\n",
    "                self.gr.add_edge(resource_name,proc_name)\n",
    "            elif resource_name in self.gr[proc_name] or proc_name in self.gr[resource_name]:\n",
    "                print(\"El mismo proceso no puede solicitar dos veces el mismo recurso (proceso:\"+proc_name+\", recurso:\"+resource_name+\")\")\n",
    "            else:\n",
    "                self.gr.add_edge(proc_name, resource_name)\n",
    "        \n",
    "    def draw(self):\n",
    "        proc_list = []\n",
    "        resources_list = []\n",
    "        for node in self.gr:\n",
    "            if node[0] == \"R\":\n",
    "                resources_list.append(node)\n",
    "            elif node[0] == \"P\":\n",
    "                proc_list.append(node)\n",
    "        plt.axis('off')\n",
    "        pos=nx.spring_layout(self.gr,seed=23970)\n",
    "        nx.draw_networkx_nodes(self.gr, pos=pos, nodelist=resources_list, node_shape=\"s\", node_color=\"b\")\n",
    "        nx.draw_networkx_nodes(self.gr, pos=pos, nodelist=proc_list, node_shape=\"o\", node_color=\"r\")\n",
    "        nx.draw_networkx_labels(self.gr, pos=pos, font_color=\"w\")\n",
    "        nx.draw_networkx_edges(self.gr,pos=pos)\n",
    "        plt.show()\n",
    "        \n",
    "        \n",
    "    def _next_node(self, node_list):\n",
    "        if not self.gr[node_list[-1]]: \n",
    "            print(node_list)\n",
    "            return \"Sin interbloqueo\", node_list       \n",
    "        \n",
    "        print(node_list)\n",
    "        for nextnode in self.gr[node_list[-1]]:\n",
    "            if nextnode in node_list:\n",
    "                node_list.append(nextnode)\n",
    "                return \"Interbloqueo\", node_list\n",
    "            node_list_aux = node_list[:]\n",
    "            node_list_aux.append(nextnode)\n",
    "            state, node_list_aux = self._next_node(node_list_aux)  \n",
    "            if state is \"Interbloqueo\": \n",
    "                return \"Interbloqueo\", node_list_aux\n",
    "        return \"Sin interbloqueo\", node_list\n",
    "            \n",
    "    def interlock(self):\n",
    "        for node in self.gr:\n",
    "            print(\"____________________________\")\n",
    "            node_list =[node]\n",
    "            state, node_list = self._next_node(node_list)\n",
    "            if state is \"Interbloqueo\":\n",
    "                print(\"____________________________\")\n",
    "                print(\"\\nInterbloqueo: \", node_list)\n",
    "                return\n",
    "        print(\"____________________________\")\n",
    "        print(\"\\nSin interbloqueo\\n\\n\")\n",
    "        return\n",
    "\n",
    "    \n",
    "# Ejemplo de uso\n",
    "il = interlock()\n",
    "il.requests((2,2), (3,3),(1,3), (2,1),(1,2),(3,1))\n",
    "il.draw()\n",
    "il.interlock()"
   ]
  },
  {
   "cell_type": "code",
   "execution_count": null,
   "metadata": {},
   "outputs": [],
   "source": []
  },
  {
   "cell_type": "code",
   "execution_count": null,
   "metadata": {},
   "outputs": [],
   "source": []
  }
 ],
 "metadata": {
  "kernelspec": {
   "display_name": "Python 3",
   "language": "python",
   "name": "python3"
  },
  "language_info": {
   "codemirror_mode": {
    "name": "ipython",
    "version": 3
   },
   "file_extension": ".py",
   "mimetype": "text/x-python",
   "name": "python",
   "nbconvert_exporter": "python",
   "pygments_lexer": "ipython3",
   "version": "3.7.5"
  }
 },
 "nbformat": 4,
 "nbformat_minor": 4
}
